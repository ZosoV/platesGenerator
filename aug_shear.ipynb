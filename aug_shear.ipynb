{
 "cells": [
  {
   "cell_type": "code",
   "execution_count": 3,
   "metadata": {},
   "outputs": [
    {
     "name": "stdout",
     "output_type": "stream",
     "text": [
      "Requirement already satisfied: certifi==2020.6.20 in c:\\users\\diego\\anaconda3\\lib\\site-packages (from -r requirements.txt (line 1)) (2020.6.20)\n",
      "Requirement already satisfied: chardet==3.0.4 in c:\\users\\diego\\anaconda3\\lib\\site-packages (from -r requirements.txt (line 2)) (3.0.4)\n",
      "Requirement already satisfied: idna==2.10 in c:\\users\\diego\\anaconda3\\lib\\site-packages (from -r requirements.txt (line 3)) (2.10)\n",
      "Collecting numpy==1.19.1\n",
      "  Downloading numpy-1.19.1-cp38-cp38-win_amd64.whl (13.0 MB)\n",
      "Collecting opencv-python==4.4.0.40\n",
      "  Downloading opencv_python-4.4.0.40-cp38-cp38-win_amd64.whl (33.5 MB)\n",
      "Requirement already satisfied: Pillow==7.2.0 in c:\\users\\diego\\anaconda3\\lib\\site-packages (from -r requirements.txt (line 6)) (7.2.0)\n",
      "Requirement already satisfied: PyYAML==5.3.1 in c:\\users\\diego\\anaconda3\\lib\\site-packages (from -r requirements.txt (line 7)) (5.3.1)\n",
      "Requirement already satisfied: requests==2.24.0 in c:\\users\\diego\\anaconda3\\lib\\site-packages (from -r requirements.txt (line 8)) (2.24.0)\n",
      "Collecting subprocess.run==0.0.8\n",
      "  Downloading subprocess.run-0.0.8.tar.gz (4.1 kB)\n",
      "Collecting urllib3==1.25.10\n",
      "  Downloading urllib3-1.25.10-py2.py3-none-any.whl (127 kB)\n",
      "Building wheels for collected packages: subprocess.run\n",
      "  Building wheel for subprocess.run (setup.py): started\n",
      "  Building wheel for subprocess.run (setup.py): finished with status 'done'\n",
      "  Created wheel for subprocess.run: filename=subprocess.run-0.0.8-py3-none-any.whl size=5403 sha256=b900f4b808d497201f01b36ef7f14c23967de4d2ae1ba002dd0ec86fba1c7685\n",
      "  Stored in directory: c:\\users\\diego\\appdata\\local\\pip\\cache\\wheels\\aa\\e1\\f3\\7faf41abf731e0c3d4181da2f81ead4280d65517f23f6534e3\n",
      "Successfully built subprocess.run\n",
      "Installing collected packages: numpy, opencv-python, subprocess.run, urllib3\n",
      "  Attempting uninstall: numpy\n",
      "    Found existing installation: numpy 1.18.5\n",
      "    Uninstalling numpy-1.18.5:\n",
      "      Successfully uninstalled numpy-1.18.5\n",
      "  Attempting uninstall: urllib3\n",
      "    Found existing installation: urllib3 1.25.9\n",
      "    Uninstalling urllib3-1.25.9:\n",
      "      Successfully uninstalled urllib3-1.25.9\n",
      "Successfully installed numpy-1.19.1 opencv-python-4.4.0.40 subprocess.run-0.0.8 urllib3-1.25.10\n"
     ]
    }
   ],
   "source": [
    "!pip install -r requirements.txt"
   ]
  },
  {
   "cell_type": "code",
   "execution_count": 55,
   "metadata": {},
   "outputs": [],
   "source": [
    "import cv2 as cv2\n",
    "import numpy as np\n",
    "import random\n",
    "import math\n",
    "import matplotlib.pyplot as plt\n",
    "\n",
    "from debug import *\n",
    "from IPython.display import Image"
   ]
  },
  {
   "cell_type": "code",
   "execution_count": 5,
   "metadata": {},
   "outputs": [],
   "source": [
    "def change_light_contrast(image, coeff):\n",
    "    new_image = np.zeros(image.shape, image.dtype)\n",
    "    # alpha = 1.0 # Simple contrast control [1.0 - 3.0]\n",
    "    beta = coeff * 100    # Simple brightness control [0-100]\n",
    "\n",
    "    # new_image = np.clip(alpha*image + beta, 0, 255) \n",
    "    # alpha must be applied to each pixel\n",
    "    new_image = np.clip(image + beta, 0, 255)\n",
    "\n",
    "    return new_image "
   ]
  },
  {
   "cell_type": "code",
   "execution_count": 6,
   "metadata": {},
   "outputs": [],
   "source": [
    "def random_brightness(image,interval = (-1.5,0.5)):\n",
    "    verify_image(image)\n",
    "\n",
    "    if(is_list(image)):\n",
    "        image_RGB=[]\n",
    "        image_list=image\n",
    "        for img in image_list:\n",
    "            random_brightness_coefficient = np.random.uniform(interval[0],interval[1]) ## generates value between 0.0 and 2.0\n",
    "            image_RGB.append(change_light_contrast(img,random_brightness_coefficient))\n",
    "    else:\n",
    "        random_brightness_coefficient = np.random.uniform(interval[0],interval[1]) ## generates value between 0.0 and 2.0\n",
    "        image_RGB= change_light_contrast(image,random_brightness_coefficient)\n",
    "    return image_RGB"
   ]
  },
  {
   "cell_type": "code",
   "execution_count": 7,
   "metadata": {},
   "outputs": [],
   "source": [
    "err_shadow_count=\"only 1-10 shadows can be introduced in an image\"\n",
    "err_invalid_rectangular_roi=\"Rectangular ROI dimensions are not valid\"\n",
    "err_shadow_dimension=\"polygons with dim<3 dont exist and >10 take time to plot\""
   ]
  },
  {
   "cell_type": "code",
   "execution_count": 8,
   "metadata": {},
   "outputs": [],
   "source": [
    "def generate_shadow_coordinates(imshape, no_of_shadows, rectangular_roi, shadow_dimension):\n",
    "    vertices_list=[]\n",
    "    x1=rectangular_roi[0]\n",
    "    y1=rectangular_roi[1]\n",
    "    x2=rectangular_roi[2]\n",
    "    y2=rectangular_roi[3]\n",
    "    for index in range(no_of_shadows):\n",
    "        vertex=[]\n",
    "        for dimensions in range(shadow_dimension): ## Dimensionality of the shadow polygon\n",
    "            vertex.append((random.randint(x1, x2),random.randint(y1, y2)))\n",
    "        vertices = np.array([vertex], dtype=np.int32) ## single shadow vertices \n",
    "        vertices_list.append(vertices)\n",
    "    return vertices_list ## List of shadow vertices"
   ]
  },
  {
   "cell_type": "code",
   "execution_count": 9,
   "metadata": {},
   "outputs": [],
   "source": [
    "def shadow_process(image,no_of_shadows,x1,y1,x2,y2, shadow_dimension):\n",
    "    image_HLS = cv2.cvtColor(image,cv2.COLOR_RGB2HLS) ## Conversion to HLS\n",
    "    mask = np.zeros_like(image) \n",
    "    imshape = image.shape\n",
    "    vertices_list= generate_shadow_coordinates(imshape, no_of_shadows,(x1,y1,x2,y2), shadow_dimension) #3 getting list of shadow vertices\n",
    "    for vertices in vertices_list: \n",
    "        cv2.fillPoly(mask, vertices, 255) ## adding all shadow polygons on empty mask, single 255 denotes only red channel\n",
    "    image_HLS[:,:,1][mask[:,:,0]==255] = image_HLS[:,:,1][mask[:,:,0]==255]*0.5   ## if red channel is hot, image's \"Lightness\" channel's brightness is lowered \n",
    "    image_RGB = cv2.cvtColor(image_HLS,cv2.COLOR_HLS2RGB) ## Conversion to RGB\n",
    "    return image_RGB"
   ]
  },
  {
   "cell_type": "code",
   "execution_count": 10,
   "metadata": {},
   "outputs": [],
   "source": [
    "def add_shadow(image,no_of_shadows=1,rectangular_roi=(-1,-1,-1,-1), shadow_dimension=5):## ROI:(top-left x1,y1, bottom-right x2,y2), shadow_dimension=no. of sides of polygon generated\n",
    "    verify_image(image)\n",
    "    if not(is_numeric(no_of_shadows) and no_of_shadows>=1 and no_of_shadows<=10):\n",
    "        raise Exception(err_shadow_count)\n",
    "    if not(is_numeric(shadow_dimension) and shadow_dimension>=3 and shadow_dimension<=10):\n",
    "        raise Exception(err_shadow_dimension)\n",
    "    if is_tuple(rectangular_roi) and is_numeric_list_or_tuple(rectangular_roi) and len(rectangular_roi)==4:\n",
    "        x1=rectangular_roi[0]\n",
    "        y1=rectangular_roi[1]\n",
    "        x2=rectangular_roi[2]\n",
    "        y2=rectangular_roi[3]\n",
    "    else:\n",
    "        raise Exception(err_invalid_rectangular_roi)\n",
    "    if rectangular_roi==(-1,-1,-1,-1):\n",
    "        x1=0\n",
    "        \n",
    "        if(is_numpy_array(image)):\n",
    "            y1=image.shape[0]//2\n",
    "            x2=image.shape[1]\n",
    "            y2=image.shape[0]\n",
    "        else:\n",
    "            y1=image[0].shape[0]//2\n",
    "            x2=image[0].shape[1]\n",
    "            y2=image[0].shape[0]\n",
    "\n",
    "    elif x1==-1 or y1==-1 or x2==-1 or y2==-1 or x2<=x1 or y2<=y1:\n",
    "        raise Exception(err_invalid_rectangular_roi)\n",
    "    if(is_list(image)):\n",
    "        image_RGB=[]\n",
    "        image_list=image\n",
    "        for img in image_list:\n",
    "            output=shadow_process(img,no_of_shadows,x1,y1,x2,y2, shadow_dimension)\n",
    "            image_RGB.append(output)\n",
    "    else:\n",
    "        output=shadow_process(image,no_of_shadows,x1,y1,x2,y2, shadow_dimension)\n",
    "        image_RGB = output\n",
    "\n",
    "    return image_RGB"
   ]
  },
  {
   "cell_type": "code",
   "execution_count": 54,
   "metadata": {},
   "outputs": [],
   "source": [
    "def translation(image, tx, ty):\n",
    "    #image = cv2.imread(img)\n",
    "    # Store height and width of the image \n",
    "    height, width = image.shape[:2]\n",
    "    #quarter_height, quarter_width = height / 4, width / 4\n",
    "    T = np.float32([[1, 0, tx], [0, 1, ty]])\n",
    "    # We use warpAffine to transform \n",
    "    # the image using the matrix, T \n",
    "    img_translation = cv2.warpAffine(image, T, (width, height)) \n",
    "    return img_translation"
   ]
  },
  {
   "cell_type": "code",
   "execution_count": 49,
   "metadata": {},
   "outputs": [
    {
     "data": {
      "text/plain": [
       "True"
      ]
     },
     "execution_count": 49,
     "metadata": {},
     "output_type": "execute_result"
    }
   ],
   "source": [
    "image = cv2.imread('test/000000000001-gen1_XVVB24.jpg')\n",
    "trans = translation(image, 2, 2)\n",
    "cv2.imwrite('test/translated_2.jpg', trans)"
   ]
  },
  {
   "cell_type": "code",
   "execution_count": 60,
   "metadata": {},
   "outputs": [],
   "source": [
    "def shear(image, tx, ty):\n",
    "    H, W = image.shape[:2]\n",
    "#   M2 = np.float32([[1, -0.1, 0], [-0.05, 1, 0]])\n",
    "    M2 = np.float32([[1, tx, 0], [ty, 1, 0]])\n",
    "    M2[0,2] = -M2[0,1] * W/2\n",
    "    M2[1,2] = -M2[1,0] * H/2\n",
    "    aff2 = cv2.warpAffine(image, M2, (W, H))\n",
    "    return aff2"
   ]
  },
  {
   "cell_type": "code",
   "execution_count": 62,
   "metadata": {},
   "outputs": [
    {
     "data": {
      "text/plain": [
       "<matplotlib.image.AxesImage at 0x238b91aa100>"
      ]
     },
     "execution_count": 62,
     "metadata": {},
     "output_type": "execute_result"
    },
    {
     "data": {
      "image/png": "[encoded data removed]",
      "text/plain": [
       "<Figure size 432x288 with 1 Axes>"
      ]
     },
     "metadata": {
      "needs_background": "light"
     },
     "output_type": "display_data"
    }
   ],
   "source": [
    "image = cv2.imread('test/000000000001-gen1_XVVB24.jpg')\n",
    "shear_img = shear(image, -0.1, -0.05 )\n",
    "plt.imshow(shear_img)"
   ]
  },
  {
   "cell_type": "code",
   "execution_count": 36,
   "metadata": {},
   "outputs": [
    {
     "data": {
      "text/plain": [
       "<matplotlib.image.AxesImage at 0x238b7be0f70>"
      ]
     },
     "execution_count": 36,
     "metadata": {},
     "output_type": "execute_result"
    },
    {
     "data": {
      "image/png": "[encoded data removed]",
      "text/plain": [
       "<Figure size 432x288 with 1 Axes>"
      ]
     },
     "metadata": {
      "needs_background": "light"
     },
     "output_type": "display_data"
    }
   ],
   "source": [
    "H, W = aff2.shape[:2]\n",
    "\n",
    "M2 = np.float32([[1, 0.05, 0], [0, 1, 0]])\n",
    "# M2[0,2] = -M2[0,1] * W/2\n",
    "# M2[1,2] = -M2[1,0] * H/2\n",
    "aff3 = cv2.warpAffine(aff2, M2, (W, H))\n",
    "\n",
    "plt.imshow(aff3, cmap=\"gray\")"
   ]
  },
  {
   "cell_type": "code",
   "execution_count": null,
   "metadata": {},
   "outputs": [],
   "source": []
  }
 ],
 "metadata": {
  "kernelspec": {
   "display_name": "Python 3",
   "language": "python",
   "name": "python3"
  },
  "language_info": {
   "codemirror_mode": {
    "name": "ipython",
    "version": 3
   },
   "file_extension": ".py",
   "mimetype": "text/x-python",
   "name": "python",
   "nbconvert_exporter": "python",
   "pygments_lexer": "ipython3",
   "version": "3.8.3"
  }
 },
 "nbformat": 4,
 "nbformat_minor": 4
}
